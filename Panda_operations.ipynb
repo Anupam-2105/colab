{
  "nbformat": 4,
  "nbformat_minor": 0,
  "metadata": {
    "colab": {
      "name": "Panda_operations.ipynb",
      "provenance": [],
      "authorship_tag": "ABX9TyPBG2MARkxXZQpXS1E970GD",
      "include_colab_link": true
    },
    "kernelspec": {
      "name": "python3",
      "display_name": "Python 3"
    },
    "language_info": {
      "name": "python"
    }
  },
  "cells": [
    {
      "cell_type": "markdown",
      "metadata": {
        "id": "view-in-github",
        "colab_type": "text"
      },
      "source": [
        "<a href=\"https://colab.research.google.com/github/Anupam-2105/colab/blob/main/Panda_operations.ipynb\" target=\"_parent\"><img src=\"https://colab.research.google.com/assets/colab-badge.svg\" alt=\"Open In Colab\"/></a>"
      ]
    },
    {
      "cell_type": "code",
      "execution_count": null,
      "metadata": {
        "id": "tk_8CuMRpfFP"
      },
      "outputs": [],
      "source": [
        "import pandas as pd"
      ]
    },
    {
      "cell_type": "code",
      "source": [
        "q1={\"A\":100,\"B\":22,\"C\":550,\"E\":400}"
      ],
      "metadata": {
        "id": "cSbHNeeKp00W"
      },
      "execution_count": null,
      "outputs": []
    },
    {
      "cell_type": "code",
      "source": [
        "q2={\"B\":150,\"C\":200,\"D\":50,\"E\":400}"
      ],
      "metadata": {
        "id": "g44LLpohqHQD"
      },
      "execution_count": null,
      "outputs": []
    },
    {
      "cell_type": "code",
      "source": [
        "sale1=pd.Series(q1)"
      ],
      "metadata": {
        "id": "lTAP-1zcqQ9J"
      },
      "execution_count": null,
      "outputs": []
    },
    {
      "cell_type": "code",
      "source": [
        "sale2=pd.Series(q2)"
      ],
      "metadata": {
        "id": "5YjuZUlLqtqJ"
      },
      "execution_count": null,
      "outputs": []
    },
    {
      "cell_type": "code",
      "source": [
        "sale1"
      ],
      "metadata": {
        "id": "UyytUWtqqx_h"
      },
      "execution_count": null,
      "outputs": []
    },
    {
      "cell_type": "code",
      "source": [
        ""
      ],
      "metadata": {
        "id": "fQ2T5CzLqy8B"
      },
      "execution_count": null,
      "outputs": []
    }
  ]
}