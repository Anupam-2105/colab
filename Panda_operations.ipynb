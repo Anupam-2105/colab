{
  "nbformat": 4,
  "nbformat_minor": 0,
  "metadata": {
    "colab": {
      "name": "Panda_operations.ipynb",
      "provenance": [],
      "authorship_tag": "ABX9TyPNBqrNqZ6EDQnUvmWTJil2",
      "include_colab_link": true
    },
    "kernelspec": {
      "name": "python3",
      "display_name": "Python 3"
    },
    "language_info": {
      "name": "python"
    }
  },
  "cells": [
    {
      "cell_type": "markdown",
      "metadata": {
        "id": "view-in-github",
        "colab_type": "text"
      },
      "source": [
        "<a href=\"https://colab.research.google.com/github/Anupam-2105/colab/blob/main/Panda_operations.ipynb\" target=\"_parent\"><img src=\"https://colab.research.google.com/assets/colab-badge.svg\" alt=\"Open In Colab\"/></a>"
      ]
    },
    {
      "cell_type": "code",
      "execution_count": null,
      "metadata": {
        "id": "tk_8CuMRpfFP"
      },
      "outputs": [],
      "source": [
        "import pandas as pd"
      ]
    },
    {
      "cell_type": "code",
      "source": [
        "q1={\"A\":100,\"B\":22,\"C\":550,\"E\":400}"
      ],
      "metadata": {
        "id": "cSbHNeeKp00W"
      },
      "execution_count": null,
      "outputs": []
    },
    {
      "cell_type": "code",
      "source": [
        "q2={\"B\":150,\"C\":200,\"D\":50,\"E\":300}"
      ],
      "metadata": {
        "id": "g44LLpohqHQD"
      },
      "execution_count": 1,
      "outputs": []
    },
    {
      "cell_type": "code",
      "source": [
        "sale1=pd.Series(q1)"
      ],
      "metadata": {
        "id": "lTAP-1zcqQ9J"
      },
      "execution_count": null,
      "outputs": []
    },
    {
      "cell_type": "code",
      "source": [
        "sale2=pd.Series(q2)"
      ],
      "metadata": {
        "id": "5YjuZUlLqtqJ"
      },
      "execution_count": null,
      "outputs": []
    },
    {
      "cell_type": "code",
      "source": [
        "sale1"
      ],
      "metadata": {
        "id": "UyytUWtqqx_h",
        "colab": {
          "base_uri": "https://localhost:8080/"
        },
        "outputId": "3c1578b6-aa3c-4210-e8bf-ab5008b40d1d"
      },
      "execution_count": null,
      "outputs": [
        {
          "output_type": "execute_result",
          "data": {
            "text/plain": [
              "A    100\n",
              "B     22\n",
              "C    550\n",
              "E    400\n",
              "dtype: int64"
            ]
          },
          "metadata": {},
          "execution_count": 11
        }
      ]
    },
    {
      "cell_type": "code",
      "source": [
        "sale2"
      ],
      "metadata": {
        "id": "fQ2T5CzLqy8B",
        "colab": {
          "base_uri": "https://localhost:8080/"
        },
        "outputId": "01b8770b-0672-42b4-c5e3-17756591b965"
      },
      "execution_count": null,
      "outputs": [
        {
          "output_type": "execute_result",
          "data": {
            "text/plain": [
              "B    150\n",
              "C    200\n",
              "D     50\n",
              "E    400\n",
              "dtype: int64"
            ]
          },
          "metadata": {},
          "execution_count": 12
        }
      ]
    },
    {
      "cell_type": "code",
      "source": [
        "sale1 + sale2"
      ],
      "metadata": {
        "colab": {
          "base_uri": "https://localhost:8080/"
        },
        "id": "EXrOo3F2tLvh",
        "outputId": "dda7286b-9715-4a73-cffa-ff3e2b61ed47"
      },
      "execution_count": null,
      "outputs": [
        {
          "output_type": "execute_result",
          "data": {
            "text/plain": [
              "A      NaN\n",
              "B    172.0\n",
              "C    750.0\n",
              "D      NaN\n",
              "E    800.0\n",
              "dtype: float64"
            ]
          },
          "metadata": {},
          "execution_count": 13
        }
      ]
    },
    {
      "cell_type": "code",
      "source": [
        "sale1.add(sale2,fill_value=0)"
      ],
      "metadata": {
        "colab": {
          "base_uri": "https://localhost:8080/"
        },
        "id": "l2wMOd2ZtNwT",
        "outputId": "8509652d-03c8-44c3-e7dc-88871d9a9876"
      },
      "execution_count": null,
      "outputs": [
        {
          "output_type": "execute_result",
          "data": {
            "text/plain": [
              "A    100.0\n",
              "B    172.0\n",
              "C    750.0\n",
              "D     50.0\n",
              "E    800.0\n",
              "dtype: float64"
            ]
          },
          "metadata": {},
          "execution_count": 14
        }
      ]
    },
    {
      "cell_type": "code",
      "source": [
        "sale1.dtype"
      ],
      "metadata": {
        "colab": {
          "base_uri": "https://localhost:8080/"
        },
        "id": "LKbWwirjxRHF",
        "outputId": "0480ec31-00d8-4e16-91b5-4ec031fb88b1"
      },
      "execution_count": null,
      "outputs": [
        {
          "output_type": "execute_result",
          "data": {
            "text/plain": [
              "dtype('int64')"
            ]
          },
          "metadata": {},
          "execution_count": 16
        }
      ]
    },
    {
      "cell_type": "code",
      "source": [
        "sale1.sub(sale2,fill_value=0)"
      ],
      "metadata": {
        "colab": {
          "base_uri": "https://localhost:8080/"
        },
        "id": "Up1yBG0CxaVw",
        "outputId": "3d0e9865-e9ea-4cc0-bd59-ae0494ae7c21"
      },
      "execution_count": null,
      "outputs": [
        {
          "output_type": "execute_result",
          "data": {
            "text/plain": [
              "A    100.0\n",
              "B   -128.0\n",
              "C    350.0\n",
              "D    -50.0\n",
              "E      0.0\n",
              "dtype: float64"
            ]
          },
          "metadata": {},
          "execution_count": 17
        }
      ]
    },
    {
      "cell_type": "code",
      "source": [
        ""
      ],
      "metadata": {
        "id": "pTB6eQfCx3vA"
      },
      "execution_count": null,
      "outputs": []
    }
  ]
}